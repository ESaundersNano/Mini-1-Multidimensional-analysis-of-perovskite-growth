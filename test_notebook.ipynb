{
 "cells": [
  {
   "cell_type": "code",
   "execution_count": 19,
   "id": "12b5a52e-5727-48cb-9142-a05d9a8d68e9",
   "metadata": {},
   "outputs": [],
   "source": [
    "import hyperspy.api as hs                 # hyperspectral data processing\n",
    "import h5py                               # to handle .h5 files\n",
    "from matplotlib import pyplot as plt      # Plotting\n",
    "import numpy as np                        # Maths\n",
    "import cv2                                # Image analysis\n",
    "from os import walk                       # To get filepaths automatically\n",
    "from natsort import natsorted             # To easily resort file order\n",
    "from datetime import datetime             # For easily parsing timestamps\n",
    "import warnings\n",
    "warnings.filterwarnings(\"ignore\")         # Remove unnecessary pyplot warnings\n",
    "from scipy.interpolate import interp1d"
   ]
  },
  {
   "cell_type": "markdown",
   "id": "66d9c20d-ce02-426a-b59f-8dc32793dac2",
   "metadata": {},
   "source": [
    "File handling functions"
   ]
  },
  {
   "cell_type": "code",
   "execution_count": 2,
   "id": "fa9351b6-02cc-41fd-b3f2-87e55199870c",
   "metadata": {},
   "outputs": [],
   "source": [
    "def get_filepaths(folder):\n",
    "    # Automatically get all filepaths in example folder in a sorted list\n",
    "    fpaths = []\n",
    "    _, _, fnames = next(walk(folder)) # ignores other outputs of this\n",
    "    for fname in fnames:\n",
    "        fpaths.append(folder+fname)\n",
    "\n",
    "    # Automatically place into numerical order rather than 1, 10, 11\n",
    "    fpaths = natsorted(fpaths)\n",
    "    return fpaths"
   ]
  },
  {
   "cell_type": "markdown",
   "id": "501f2ffb-9f75-4946-ba27-eb52de23bbad",
   "metadata": {},
   "source": [
    "h5py data extraction functions"
   ]
  },
  {
   "cell_type": "code",
   "execution_count": 3,
   "id": "5df177d2-a6cf-485b-af3c-b2cd5bd90c73",
   "metadata": {},
   "outputs": [],
   "source": [
    "# function for extracting data from h5py\n",
    "\n",
    "def get_h5py_contents(f):\n",
    "    # First start by finding the 'keys' (i.e. folder headings)\n",
    "    def allkeys(obj):\n",
    "        \"Recursively find all keys in an h5py.Group.\"\n",
    "        keys = (obj.name,)\n",
    "        if isinstance(obj, h5py.Group):\n",
    "            for key, value in obj.items():\n",
    "                if isinstance(value, h5py.Group):\n",
    "                    keys = keys + allkeys(value)\n",
    "                else:\n",
    "                    keys = keys + (value.name,)\n",
    "        return keys\n",
    "    keys = allkeys(f)\n",
    "\n",
    "    # Now let's check each folder for any attributes and print them all out\n",
    "    for key in keys:\n",
    "        print(key)\n",
    "        attrs = list(f[key].attrs.keys())\n",
    "        if attrs != []:\n",
    "            print('\\t',attrs)\n",
    "\n",
    "def get_timestamps(fpaths):\n",
    "    # Here we will extract the time associated with each frame from the timestamp data\n",
    "    ts = []\n",
    "    tstamps = []\n",
    "    for i,fpath in enumerate(fpaths):\n",
    "        # Load file\n",
    "        f = h5py.File(fpath,'r')\n",
    "        # Access timestamp\n",
    "        tstamp = list(f['Cube/Timestamp'])[0].astype(str)\n",
    "        # Remove the date and keep the time\n",
    "        tstamp = tstamp.split(sep=' ')[1]\n",
    "        tstamps.append(tstamp)\n",
    "        # Load tstamp string into correct datetime format\n",
    "        t0 = datetime.strptime(tstamps[0], \"%H:%M:%S.%f\")\n",
    "        t1 = datetime.strptime(tstamps[i], \"%H:%M:%S.%f\")\n",
    "        # Calculate difference between current frame and initial frame in seconds\n",
    "        diff = t1-t0\n",
    "        t = diff.total_seconds()\n",
    "        # append result\n",
    "        ts.append(t)\n",
    "    return ts\n",
    "\n",
    "def extract_continuous_ts(ts):\n",
    "    \"\"\"Returns time series cut down to first continuous chunk\"\"\"\n",
    "    diff0 = ts[1]-ts[0]\n",
    "    tlast=0\n",
    "    i=0\n",
    "    for t in ts:\n",
    "        diff1= t - tlast\n",
    "        if diff1 > 2*diff0:\n",
    "            return ts[:i]\n",
    "        i+=1\n",
    "        tlast=t\n",
    "        \n",
    "def extract_h5py_images(fpaths):        \n",
    "    images = []\n",
    "    for i,fpath in enumerate(fpaths):\n",
    "        # Load file\n",
    "        f = h5py.File(fpath,'r')\n",
    "        # Extract the image\n",
    "        image = f['Cube/Images'][0]\n",
    "        images.append(image)\n",
    "    # Convert format for wider compatibility   \n",
    "    images = np.array(images).astype('float32') # converts to 2D array with float32 values\n",
    "    return images"
   ]
  },
  {
   "cell_type": "code",
   "execution_count": 4,
   "id": "c70c945d-83a2-4c21-aa73-181c48963d02",
   "metadata": {},
   "outputs": [],
   "source": [
    "def get_data_h5py(folder):\n",
    "    fpaths = get_filepaths(folder)\n",
    "    ts = get_timestamps(fpaths)\n",
    "    ts=extract_continuous_ts(ts)\n",
    "    images = extract_h5py_images(fpaths)\n",
    "    images = images[:len(ts)] # make sure images and ts match\n",
    "    return ts, images"
   ]
  },
  {
   "cell_type": "markdown",
   "id": "09d727e7-e194-4ea8-9aab-3fe001655a6d",
   "metadata": {},
   "source": [
    "Investigating data"
   ]
  },
  {
   "cell_type": "code",
   "execution_count": 59,
   "id": "5766d699-b526-4b93-b674-4847863f90d0",
   "metadata": {},
   "outputs": [
    {
     "name": "stdout",
     "output_type": "stream",
     "text": [
      "110\n"
     ]
    }
   ],
   "source": [
    "folder = r'C:\\Users\\es758\\Documents\\Python Scripts\\Mini 1\\Reflection data subset\\\\'\n",
    "fpaths = get_filepaths(folder)\n",
    "\n",
    "print(len(ts))\n",
    "f = h5py.File(fpaths[0],'r')\n",
    "# Look at keys and attributes of a file\n",
    "# get_h5py_contents(f)\n",
    "\n",
    "# Let's have a look at the times\n",
    "# %matplotlib inline\n",
    "# plt.plot(ts,'.-')\n",
    "# plt.xlabel('Index', fontsize=15)\n",
    "# plt.ylabel('Time / s', fontsize=15)\n",
    "\n",
    "ts = get_timestamps(fpaths)\n",
    "ts=extract_continuous_ts(ts)\n",
    "images = extract_h5py_images(fpaths)\n",
    "images = images[:len(ts)] # make sure images and ts match"
   ]
  },
  {
   "cell_type": "code",
   "execution_count": null,
   "id": "200b36d1-488e-4a8b-b5f2-7bc501bb0fc0",
   "metadata": {},
   "outputs": [],
   "source": [
    "# Let's plot a specific image\n",
    "%matplotlib inline\n",
    "plt.imshow(images[1],cmap='gray')\n",
    "plt.colorbar()"
   ]
  },
  {
   "cell_type": "code",
   "execution_count": 140,
   "id": "a23a6dc6-8fde-470d-ab0e-a623b999edce",
   "metadata": {},
   "outputs": [],
   "source": [
    "# We can also load the images into hyperspy which makes it easy for us to look at the whole series\n",
    "%matplotlib qt\n",
    "s = hs.signals.Signal2D(images)\n",
    "s.plot()"
   ]
  },
  {
   "cell_type": "code",
   "execution_count": 45,
   "id": "2e8d744e-508d-4cfe-833a-89a3b9019d2c",
   "metadata": {},
   "outputs": [
    {
     "name": "stdout",
     "output_type": "stream",
     "text": [
      "Our image has 0.325 pixels per um\n",
      "[332.8 332.8]\n"
     ]
    },
    {
     "data": {
      "text/plain": [
       "Text(0.5, 1.0, 't = 0.00 s')"
      ]
     },
     "execution_count": 45,
     "metadata": {},
     "output_type": "execute_result"
    }
   ],
   "source": [
    "scale = f['Cube/Info/Camera'].attrs['PixelSizeNm'][0] #in nm/pixel, this is the camera pixel size, not the image pixel size!!\n",
    "magnification = int(f['Cube/Info/Optics'].attrs['Objective'][0][:-1]) # need to strip 'x' symbol at end\n",
    "\n",
    "pixel_size = scale/(1000*magnification) # this is the image pixel calibration in um/px\n",
    "\n",
    "print(r'Our image has %.3f pixels per um' % pixel_size) # should be other way around?\n",
    "\n",
    "# Figure out max extent of image for scaling\n",
    "im_shape= np.array(np.shape(images[0]))\n",
    "im_length = im_shape*pixel_size\n",
    "print(im_length)\n",
    "\n",
    "%matplotlib qt\n",
    "i = 0 # choose frame to plot\n",
    "plt.imshow(images[i],cmap='gray',extent=[0,im_length[0],0,im_length[1]],vmin=np.min(images),vmax=np.max(images))\n",
    "plt.colorbar()\n",
    "plt.xlabel(r'$x / \\mu m$', fontsize=15)\n",
    "plt.ylabel(r'$y / \\mu m$', fontsize=15)\n",
    "plt.title('t = %.2f s' % ts[i])"
   ]
  },
  {
   "cell_type": "markdown",
   "id": "09ff0751-232c-4f5a-bad9-125a85e6d03a",
   "metadata": {},
   "source": [
    "Image pre-processing"
   ]
  },
  {
   "cell_type": "code",
   "execution_count": 5,
   "id": "bb2a2dc9-908c-40d3-89fc-df913d5dd890",
   "metadata": {},
   "outputs": [],
   "source": [
    "def blur_image(im, k_blur = 9):\n",
    "    # Blur image\n",
    "    blurred = cv2.GaussianBlur(im, (k_blur, k_blur), 0)\n",
    "    return blurred\n",
    "\n",
    "def open_image(im, k_open = 9):\n",
    "    # Open image\n",
    "    kernel = np.ones((k_open,k_open),np.uint8)\n",
    "    opening = cv2.morphologyEx(im,cv2.MORPH_OPEN,kernel)\n",
    "    return opening\n",
    "\n",
    "def sobel_2D(im, k_sobel = 15):\n",
    "    # Sobel filter\n",
    "    # Basically finds strong gradients going both ways for each pixel and adds them to come up with a sort of approximate\n",
    "    # Isn't quite contours yet but is making what should be contours stand out.\n",
    "    sobelx = cv2.Sobel(im,cv2.CV_64F,1,0,ksize=k_sobel)\n",
    "    sobely = cv2.Sobel(im,cv2.CV_64F,0,1,ksize=k_sobel)\n",
    "    sobel = abs(sobelx) + abs(sobely)\n",
    "    # sobel = np.sqrt(sobelx**2 + sobely**2)\n",
    "    sobel = sobel/np.max(sobel)\n",
    "    return sobel\n",
    "\n",
    "def threshold_image(im):\n",
    "    # just takes data above threshold value and makes binary it seems\n",
    "    # Filters out some of the background murk\n",
    "    thresh = cv2.threshold(im, np.max(im)/5, 1, cv2.THRESH_BINARY)[1].astype(np.uint8) # data type change again is preferred by cv2 for this bit for whatever reason.\n",
    "    return thresh\n",
    "\n",
    "def get_binary(im):\n",
    "    return threshold_image(sobel_2D(open_image(blur_image(im))))"
   ]
  },
  {
   "cell_type": "code",
   "execution_count": 6,
   "id": "9b5d19dc-bef6-4caf-9d6e-864d3743f543",
   "metadata": {},
   "outputs": [],
   "source": [
    "def get_contours(binary):\n",
    "    \"\"\" Given a binary image, returns contours \n",
    "    Contours must be above an area/perimeter threshold\"\"\"\n",
    "    try:\n",
    "        contours, hierarchy = cv2.findContours(binary,cv2.RETR_TREE,cv2.CHAIN_APPROX_SIMPLE)\n",
    "    \n",
    "    # need to ask George what going on with this next bit. Apparently was for messing around with different versions.\n",
    "    except:\n",
    "        try:\n",
    "            _,contours, _ = cv2.findContours(binary,cv2.RETR_TREE,cv2.CHAIN_APPROX_SIMPLE)\n",
    "        except:\n",
    "            contours, hierarchy = cv2.findContours(binary,cv2.RETR_FLOODFILL,cv2.CHAIN_APPROX_SIMPLE)\n",
    "    big_cnt = []\n",
    "    areas = []\n",
    "    perims = []\n",
    "\n",
    "    for c in contours:\n",
    "        area = cv2.contourArea(c)\n",
    "        perim = cv2.arcLength(c,True)\n",
    "        if area > 3000 or perim > 2000:\n",
    "            big_cnt.append(c)\n",
    "            areas.append(area)\n",
    "            perims.append(perim)\n",
    "#         if np.shape(c)[0] > 150:\n",
    "#             big_cnt.append(c)\n",
    "\n",
    "    return big_cnt, areas, perims\n",
    "\n",
    "def plot_contours(cnts,im,title=None):\n",
    "    \"\"\" Takes contours and an image, and plots them both\"\"\"\n",
    "    plt.figure()\n",
    "    cols = ['tab:blue', 'tab:orange', 'tab:green', 'tab:red', 'tab:purple', 'tab:brown', 'tab:pink', 'tab:gray', 'tab:olive', 'tab:cyan']\n",
    "    for i in range(len(cnts)):\n",
    "        plt.scatter(cnts[i][:,0][:][:,0],cnts[i][:,0][:][:,1],s=2,color=cols[i%len(cols)],alpha=0.4)\n",
    "        plt.imshow(im,cmap='gray')\n",
    "    if title != None:\n",
    "        plt.title(title,fontsize=15)\n",
    "    plt.axis('off')"
   ]
  },
  {
   "cell_type": "code",
   "execution_count": 105,
   "id": "41ef6979-9723-475a-a389-57d2ace4aa3a",
   "metadata": {
    "tags": []
   },
   "outputs": [
    {
     "data": {
      "image/png": "[encoded data removed]",
      "text/plain": [
       "<Figure size 432x288 with 1 Axes>"
      ]
     },
     "metadata": {
      "needs_background": "light"
     },
     "output_type": "display_data"
    },
    {
     "data": {
      "image/png": "[encoded data removed]",
      "text/plain": [
       "<Figure size 432x288 with 1 Axes>"
      ]
     },
     "metadata": {
      "needs_background": "light"
     },
     "output_type": "display_data"
    }
   ],
   "source": [
    "### Experimenting with different pre-processing\n",
    "\n",
    "# im = images[0]\n",
    "# %matplotlib inline\n",
    "# plt.imshow(im)\n",
    "# plt.show()\n",
    "\n",
    "# honestly, looking at just one frame, possible new2 is best at least visually https://docs.opencv.org/3.4/d9/d61/tutorial_py_morphological_ops.html\n",
    "# plt.imshow(sobel_2D(im))\n",
    "# plt.show()\n",
    "\n",
    "# new1=(blur_image(im))\n",
    "\n",
    "# plt.imshow(sobel_2D(new1))\n",
    "# plt.show()\n",
    "\n",
    "# new2=(open_image(im))\n",
    "\n",
    "# plt.imshow(sobel_2D(new2))\n",
    "# plt.show()\n",
    "\n",
    "# new3=open_image(blur_image(im))\n",
    "\n",
    "# plt.imshow(sobel_2D(new3))\n",
    "# plt.show()\n",
    "\n",
    "\n",
    "### Experimenta; plotting of area and perimeter\n",
    "\n",
    "# area_plot = []\n",
    "# perim_plot = []\n",
    "\n",
    "# for im in images:\n",
    "#     bim = get_binary(im)\n",
    "#     contours_filtered, areas_filtered, perims_filtered = get_contours(bim)\n",
    "#     biggest_area = np.max(areas_filtered)\n",
    "#     biggest_perim = np.max(perims_filtered)\n",
    "#     area_plot.append(biggest_area)\n",
    "#     perim_plot.append(biggest_perim)\n",
    "    \n",
    "# %matplotlib inline\n",
    "# plt.plot(area_plot,'.-')\n",
    "# plt.xlabel('Index', fontsize=15)\n",
    "# plt.ylabel('Area /', fontsize=15)\n",
    "# plt.show()\n",
    "# plt.plot(perim_plot)\n",
    "# plt.xlabel('Index', fontsize=15)\n",
    "# plt.ylabel('Perim /', fontsize=15)\n",
    "# plt.show()\n",
    "    \n",
    "    \n",
    "#plot_contours(contours_filtered,im)\n",
    "#print(areas_filtered, perims_filtered)\n",
    "\n",
    "\n",
    "# make a cell that extracts everything I need to inspect, and then have a look."
   ]
  },
  {
   "cell_type": "code",
   "execution_count": 7,
   "id": "1eba2d6d-7c2d-4e8a-87be-f18e802e1660",
   "metadata": {},
   "outputs": [],
   "source": [
    "folder = r'C:\\Users\\es758\\Documents\\Python Scripts\\Mini 1\\Reflection data subset\\\\'\n",
    "ts, images = get_data_h5py(folder)"
   ]
  },
  {
   "cell_type": "code",
   "execution_count": 8,
   "id": "8ebcfc0d-a182-4b50-8cd1-59e28dc109b1",
   "metadata": {},
   "outputs": [],
   "source": [
    "def get_contour_data(images):\n",
    "    contour_sets = []\n",
    "    area_sets = []\n",
    "    perim_sets = []\n",
    "    for im in images:\n",
    "        bim = get_binary(im)\n",
    "        contours_filtered, areas_filtered, perims_filtered = get_contours(bim)\n",
    "        contour_sets.append(contours_filtered)\n",
    "        area_sets.append(areas_filtered)\n",
    "        perim_sets.append(perims_filtered)\n",
    "    return contour_sets, area_sets, perim_sets"
   ]
  },
  {
   "cell_type": "markdown",
   "id": "a1d2b9e9-3147-421f-9355-cba67c2bc721",
   "metadata": {},
   "source": [
    "It would seem that areas are more reliable than perimeters. Have to handle multiple contours that are basically the same, drops whilst the data is still good, and then dealing with it falling apart when touching the edge"
   ]
  },
  {
   "cell_type": "code",
   "execution_count": 120,
   "id": "aab2dfb3-6e86-4ff2-9756-9c87778b81f5",
   "metadata": {},
   "outputs": [
    {
     "data": {
      "image/png": "[encoded data removed]",
      "text/plain": [
       "<Figure size 432x288 with 1 Axes>"
      ]
     },
     "metadata": {
      "needs_background": "light"
     },
     "output_type": "display_data"
    },
    {
     "data": {
      "image/png": "[encoded data removed]",
      "text/plain": [
       "<Figure size 432x288 with 1 Axes>"
      ]
     },
     "metadata": {
      "needs_background": "light"
     },
     "output_type": "display_data"
    },
    {
     "data": {
      "image/png": "[encoded data removed]",
      "text/plain": [
       "<Figure size 432x288 with 1 Axes>"
      ]
     },
     "metadata": {
      "needs_background": "light"
     },
     "output_type": "display_data"
    }
   ],
   "source": [
    "contour_sets, area_sets, perim_sets = get_contour_data(images)   \n",
    "\n",
    "index_list = []\n",
    "area_list = []\n",
    "perimeter_list = []\n",
    "for i in np.arange(len(area_sets)):\n",
    "    for j in np.arange(len(area_sets[i])):\n",
    "        index_list.append(i)\n",
    "        area_list.append(area_sets[i][j])\n",
    "        perimeter_list.append(perim_sets[i][j])\n",
    "    \n",
    "\n",
    "    \n",
    "%matplotlib inline\n",
    "plt.scatter(index_list,area_list)\n",
    "plt.show()\n",
    "\n",
    "plt.scatter(index_list,perimeter_list)\n",
    "plt.show()\n",
    "\n",
    "num_entries = []\n",
    "for i in np.arange(len(area_sets)):\n",
    "    num_entries.append(len(area_sets[i]))\n",
    "    \n",
    "plt.plot(num_entries)\n",
    "plt.show()"
   ]
  },
  {
   "cell_type": "code",
   "execution_count": 49,
   "id": "c98e308f-686e-40dc-afdc-658416ff2f24",
   "metadata": {},
   "outputs": [],
   "source": [
    "%matplotlib qt\n",
    "index = 5\n",
    "plot_contours(contour_sets[index], get_binary(images[index]))\n",
    "\n",
    "# 11 is a single contour, not sure why hasn't worked with area\n",
    "\n",
    "# 50 seems to be both where area falls apart and where the crystal touches the edge\n",
    "\n",
    "\n",
    "## Look at later\n",
    "# reason is sometimes making 2 and 1 is is putting an inside and an outside. Can play with opening to get rid of double threshold. Can try closing too. Want 2 edges to merge together."
   ]
  },
  {
   "cell_type": "code",
   "execution_count": 9,
   "id": "59fecc20-62bc-4357-99d6-2c9a1c4d3627",
   "metadata": {},
   "outputs": [],
   "source": [
    "contour_sets, area_sets, perim_sets = get_contour_data(images)\n",
    "\n",
    "\n",
    "\n",
    "def extract_best_contour_data(contour_sets, area_sets, perim_sets):\n",
    "    best_contours = []\n",
    "    best_areas = []\n",
    "    best_perims = []\n",
    "    for i in np.arange(len(contour_sets)):\n",
    "        criterion = np.max(area_sets[i])\n",
    "        best_areas.append(criterion)\n",
    "        j = area_sets[i].index(criterion)\n",
    "        best_contours.append(contour_sets[i][j])\n",
    "        best_perims.append(perim_sets[i][j])\n",
    "    return best_contours, best_areas, best_perims\n",
    "        "
   ]
  },
  {
   "cell_type": "code",
   "execution_count": 51,
   "id": "b12da111-5201-451c-8751-c3f1145344d4",
   "metadata": {},
   "outputs": [
    {
     "data": {
      "text/plain": [
       "[<matplotlib.lines.Line2D at 0x1cb0b8ec340>]"
      ]
     },
     "execution_count": 51,
     "metadata": {},
     "output_type": "execute_result"
    }
   ],
   "source": [
    "best_contours, best_areas, best_perims = extract_best_contour_data(contour_sets, area_sets, perim_sets)\n",
    "plt.plot( ts, best_areas)"
   ]
  },
  {
   "cell_type": "code",
   "execution_count": null,
   "id": "019b9b5f-b745-45ee-a9fb-8665f4751439",
   "metadata": {},
   "outputs": [],
   "source": []
  },
  {
   "cell_type": "code",
   "execution_count": 41,
   "id": "54a4c705-4edd-421c-8ca6-dd8c8dd8cf2a",
   "metadata": {},
   "outputs": [],
   "source": [
    "def extract_growth_rate(area_series, time_series):\n",
    "    gro_series = []\n",
    "    index_list = np.arange(len(area_series))\n",
    "    for i in index_list:\n",
    "        if i == 0:\n",
    "            rate = (area_series[1] - area_series[0])/(time_series[1]-time_series[0])\n",
    "        elif i == index_list[-1]:\n",
    "            rate = (area_series[-1] - area_series[-2])/(time_series[-1]-time_series[-2])\n",
    "        else:\n",
    "            rate = (area_series[i+1] - area_series[i-1])/(time_series[i+1]-time_series[i-1])\n",
    "        gro_series.append(rate)\n",
    "    return gro_series\n",
    "            \n",
    "# def fix_area_data(area_series, time_series):\n",
    "#     \"\"\"\n",
    "#     Interpolates area if contours fail for a time and slices data to just frames before the crystal reaches the edge of the field of view\n",
    "#     Maybe add later a way of marking data where have done this?\n",
    "#     Probably could do something smart with try and except here.\n",
    "#     \"\"\"\n",
    "    \n",
    "#     gro_series = extract_growth_rate(area_series, time_series)\n",
    "    \n",
    "#     cleaned_area_series = []\n",
    "#     cleaned_time_series = []\n",
    "    \n",
    "#     # maybe should tell by rate instead? But need to distinguish between blips and edge so both I reckon\n",
    "#     index_list = np.arange(len(area_series))\n",
    "#     for i in index_list:\n",
    "#         if i == 0 or i == index_list[-1]:\n",
    "#             cleaned_area_series.append(area_series[i])\n",
    "#         elif abs(gro_series[i]) > 10*abs(gro_series[i-1]):\n",
    "#             # check if area value has collapsed due to reaching the edge of the field of view\n",
    "#             # should probably have warnings that either the area has reached the edge or just got unlucky with which evaluations failed. WIll for now make reliant on not getting 2 bad\n",
    "#             # in a row for sake of catching dodgy data\n",
    "#             if area_series[i+1] < area_series[i-1]:\n",
    "#                 # cut off\n",
    "#                 cleaned_time_series = time_series[:len(cleaned_area_series)]\n",
    "#                 break\n",
    "#             else:\n",
    "#                 #interpolate\n",
    "#                 area_interp = [area_series[i-1], area_series[i+1]]\n",
    "#                 time_interp = [time_series[i-1], time_series[i+1]]\n",
    "#                 f = interp1d(time_interp, area_interp, kind='linear')\n",
    "#                 cleaned_area_series.append(f(time_series[i]))\n",
    "#         else:\n",
    "#             cleaned_area_series.append(area_series[i])\n",
    "                \n",
    "    \n",
    "#     return cleaned_area_series, cleaned_time_series\n",
    "def fix_area_data(area_series, time_series):\n",
    "    \"\"\"\n",
    "    Interpolates area if contours fail for a time and slices data to just frames before the crystal reaches the edge of the field of view\n",
    "    Maybe add later a way of marking data where have done this?\n",
    "    Probably could do something smart with try and except here.\n",
    "    \"\"\"\n",
    "    cleaned_area_series = []\n",
    "    cleaned_time_series = []\n",
    "    \n",
    "    # maybe should tell by rate instead? But need to distinguish between blips and edge so both I reckon\n",
    "    index_list = np.arange(len(area_series))\n",
    "    for i in index_list:\n",
    "        if i == 0 or i == index_list[-1]:\n",
    "            cleaned_area_series.append(area_series[i])\n",
    "        elif i == 1:\n",
    "            cleaned_area_series.append(area_series[i])\n",
    "        elif abs(area_series[i]-cleaned_area_series[i-1]) > 100*abs(cleaned_area_series[i-1]-cleaned_area_series[i-2]):\n",
    "    \n",
    "            if area_series[i+1] < cleaned_area_series[i-1]:\n",
    "                # cut off\n",
    "                # could try make so allows thing to shrink\n",
    "                cleaned_time_series = time_series[:len(cleaned_area_series)]\n",
    "                break\n",
    "            else:\n",
    "                #interpolate\n",
    "                area_interp = [cleaned_area_series[i-1], area_series[i+1]]\n",
    "                time_interp = [time_series[i-1], time_series[i+1]]\n",
    "                f = interp1d(time_interp, area_interp, kind='linear')\n",
    "                cleaned_area_series.append(f(time_series[i]))\n",
    "        else:\n",
    "            cleaned_area_series.append(area_series[i])\n",
    "                \n",
    "    # am I misssing an apend time series somewhere?\n",
    "    # At present ok because take whole time series once touches edge but should \n",
    "    # I suppose an alternative to what I have done would be to just skip out area and time rather than interpolating. Especially if messes up later in facets.\n",
    "    return cleaned_area_series, cleaned_time_series\n",
    "\n",
    "# cut off happens if more than 2 blips in a row as well as for normal cut off\n",
    "# blip detection works ok but if only one normal value inbetween 2 blips I don't think it will recognise the second one. \n",
    "# therefore maybe I should change so makes new area list to reference past values as it goes rather than what doing now. Future i ones can still be the original.\n",
    "#this simple change to above so will do\n",
    "\n",
    "# weakness still can't handle if area contours mess up more than a few tiems and can't tell if because if hit edge or is this. Most likely edge though.\n",
    "\n",
    "\n",
    "\n",
    "# probably change to skipping out, can't gain much from interpolation. Not adding information. Tell it to put Nan? But handle for growth rate. Is then a flag for where data missing.\n",
    "\n",
    "# try remove the double threshold. Hard to play with to make general but could try put some things in place.\n",
    "# \n"
   ]
  },
  {
   "cell_type": "code",
   "execution_count": 42,
   "id": "c69a783d-c62b-42b9-a461-c29d60c554a5",
   "metadata": {},
   "outputs": [
    {
     "data": {
      "image/png": "[encoded data removed]",
      "text/plain": [
       "<Figure size 432x288 with 1 Axes>"
      ]
     },
     "metadata": {
      "needs_background": "light"
     },
     "output_type": "display_data"
    },
    {
     "data": {
      "image/png": "[encoded data removed]",
      "text/plain": [
       "<Figure size 432x288 with 1 Axes>"
      ]
     },
     "metadata": {
      "needs_background": "light"
     },
     "output_type": "display_data"
    }
   ],
   "source": [
    "plt.plot(extract_growth_rate(best_areas, ts))\n",
    "plt.show()\n",
    "cleaned_area_series, cleaned_time_series = fix_area_data(best_areas, ts)\n",
    "plt.plot(extract_growth_rate(cleaned_area_series, cleaned_time_series))\n",
    "plt.show()\n",
    "# breaks after 6 but not terrible. Clearly got to check for more up and down or maybe closer errors like that."
   ]
  },
  {
   "cell_type": "code",
   "execution_count": 43,
   "id": "5c589fc9-69ae-4ef0-a7a1-d1500cf66dfb",
   "metadata": {},
   "outputs": [],
   "source": [
    "# was cutting data off after only 7 seconds or so\n",
    "# ahh, problem is growth rates based on future entry so had a problem in the one before the drop in area.\n",
    "\n",
    "# have changed function to be areas based alone.\n",
    "# should build in so can look at data before choosing how to clean or if clean and results sensible. Or at least throw warnings based on what has done."
   ]
  },
  {
   "cell_type": "code",
   "execution_count": null,
   "id": "33dbd699-835f-4e71-8ee4-1cab31b46000",
   "metadata": {},
   "outputs": [],
   "source": [
    "# probably worth using scipy to curve fit with errors etc for areas to see what growth rate is predicted as like on average.\n",
    "# should also add units and make propert figures."
   ]
  },
  {
   "cell_type": "code",
   "execution_count": null,
   "id": "06839d98-f03d-4ee0-babf-d29e9338dddf",
   "metadata": {},
   "outputs": [],
   "source": []
  },
  {
   "cell_type": "code",
   "execution_count": null,
   "id": "dd0a6572-f9ce-4bad-93c0-083e0119235c",
   "metadata": {},
   "outputs": [],
   "source": []
  }
 ],
 "metadata": {
  "kernelspec": {
   "display_name": "Python 3 (ipykernel)",
   "language": "python",
   "name": "python3"
  },
  "language_info": {
   "codemirror_mode": {
    "name": "ipython",
    "version": 3
   },
   "file_extension": ".py",
   "mimetype": "text/x-python",
   "name": "python",
   "nbconvert_exporter": "python",
   "pygments_lexer": "ipython3",
   "version": "3.8.12"
  }
 },
 "nbformat": 4,
 "nbformat_minor": 5
}
