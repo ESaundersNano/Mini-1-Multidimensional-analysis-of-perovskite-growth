{
 "cells": [
  {
   "cell_type": "markdown",
   "id": "dc0267a0-d03e-406d-854b-5323bdb285af",
   "metadata": {},
   "source": [
    "# Hyperspec"
   ]
  },
  {
   "cell_type": "code",
   "execution_count": 3,
   "id": "6b4aadae-6b09-4651-840d-9dd2aa28f56a",
   "metadata": {},
   "outputs": [],
   "source": [
    "import hyperspy.api as hs                 # hyperspectral data processing and some useful image viewing\n",
    "import h5py                               # to handle .h5 files\n",
    "from matplotlib import pyplot as plt      # Plotting\n",
    "import numpy as np                        # Maths\n",
    "import cv2                                # Image analysis\n",
    "from os import walk                       # To get filepaths automatically\n",
    "from natsort import natsorted             # To easily resort file order\n",
    "from datetime import datetime             # For easily parsing timestamps\n",
    "import warnings\n",
    "warnings.filterwarnings(\"ignore\")         # Attempt to remove some unnecessary pyplot warnings\n",
    "from scipy.optimize import curve_fit\n",
    "import pandas as pd\n",
    "import optical_image_functions as oif"
   ]
  },
  {
   "cell_type": "code",
   "execution_count": 14,
   "id": "652cf416-5ec9-439c-8d35-6dbdd7ffe4d9",
   "metadata": {},
   "outputs": [],
   "source": [
    "#folder=r'C:\\Users\\es758\\University of Cambridge\\Alice Dearle - mini1 hyper-perov\\example 2 hyperspectral\\090321\\\\'\n",
    "folder=r'C:\\Users\\Sauron\\Documents\\grl31\\NanoDTC Mini - Edward\\example 2 hyperspectral\\090321\\\\'\n",
    "fpaths = oif.get_filepaths(folder)"
   ]
  },
  {
   "cell_type": "markdown",
   "id": "de60b18b-7fce-4087-af04-6f7122162441",
   "metadata": {},
   "source": [
    "The hyperspectral microscope in MRC has software which outputs 2 files per time step, one being a rectified image stack which is what is wanted. The code below extracts the file paths for these rectified images alone."
   ]
  },
  {
   "cell_type": "code",
   "execution_count": 15,
   "id": "df30b2ad-d39a-4f3d-ad9e-9ceab722de35",
   "metadata": {},
   "outputs": [],
   "source": [
    "rectified_fpaths = []\n",
    "for fpath in fpaths:\n",
    "    if fpath[-9:] == \"(1)(1).h5\":\n",
    "        rectified_fpaths.append(fpath)"
   ]
  },
  {
   "cell_type": "markdown",
   "id": "03cdeba3-79c0-4429-9440-54ca980e2a1f",
   "metadata": {},
   "source": [
    "Inspect some of the "
   ]
  },
  {
   "cell_type": "code",
   "execution_count": null,
   "id": "1ec3702e-0371-49a4-9105-d14a1de8836e",
   "metadata": {},
   "outputs": [],
   "source": [
    "fpath=fpaths[0]\n",
    "print(fpath)\n",
    "f = h5py.File(fpath,'r')\n",
    "# Extract the image\n",
    "print(len(f['Cube/Images']))\n",
    "print(len(f['Cube/Wavelength']))\n",
    "pixel_size = oif.get_pixel_size(fpath)\n",
    "pixel_size"
   ]
  },
  {
   "cell_type": "code",
   "execution_count": null,
   "id": "9023ac1f-8350-4eca-ab64-717375918631",
   "metadata": {},
   "outputs": [],
   "source": [
    "def extract_h5py_image_stack(fpath):\n",
    "    f = h5py.File(fpath,'r')\n",
    "    \n",
    "    pixel_size = oif.get_pixel_size(fpath)\n",
    "    \n",
    "    wavelengths=np.array(f['Cube/Wavelength'])\n",
    "    dwavelength=wavelengths[1]-wavelengths[0]\n",
    "    print(dwavelength)\n",
    "    images = np.array(f['Cube/Images']).astype(\"float32\")\n",
    "    \n",
    "    lam_size, y_size, x_size = images.shape\n",
    "    \n",
    "    dictlam = {'size': lam_size, 'name':'lambda', 'units':'nm', 'scale':dwavelength, 'offset':wavelengths[0]}\n",
    "    dicty = {'size': y_size, 'name':'y', 'units':'µm', 'scale':pixel_size, 'offset':0} # Note y still increases as go down the image\n",
    "    dictx = {'size': x_size, 'name':'x', 'units':'µm', 'scale':pixel_size, 'offset':0}\n",
    "\n",
    "    image_stack = hs.signals.Signal2D(images, axes =[dictlam, dicty, dictx])\n",
    "    return image_stack"
   ]
  },
  {
   "cell_type": "code",
   "execution_count": null,
   "id": "5d210290-e335-4d7e-9d8a-c118a4651b26",
   "metadata": {},
   "outputs": [],
   "source": [
    "%matplotlib qt\n",
    "\n",
    "folder=r'C:\\Users\\es758\\University of Cambridge\\Alice Dearle - mini1 hyper-perov\\example 2 hyperspectral\\090321\\\\'\n",
    "fpaths = oif.get_filepaths(folder)\n",
    "fpath=fpaths[200]\n",
    "print(fpath)\n",
    "\n",
    "test_image_stack = extract_h5py_image_stack(fpath)\n",
    "# test_image_stack.plot(navigator='auto')\n",
    "# test_image_stack.axes_manager\n",
    "\n",
    "im_1d = test_image_stack.transpose()\n",
    "im_1d.plot(navigator='slider')\n",
    "plt.show()\n",
    "\n",
    "im_1d.plot()\n",
    "plt.show()\n",
    "im_1d.axes_manager"
   ]
  },
  {
   "cell_type": "code",
   "execution_count": null,
   "id": "075999eb-276a-4d89-971e-b7dc847b232d",
   "metadata": {},
   "outputs": [],
   "source": [
    "# inspecting how the data is stored before stacking."
   ]
  },
  {
   "cell_type": "code",
   "execution_count": null,
   "id": "0aa2497d-f21b-41b0-bafc-95dc0dd197ee",
   "metadata": {},
   "outputs": [],
   "source": [
    "%matplotlib inline\n",
    "print(test_image_stack.data.shape)\n",
    "print(test_image_stack.data[7][:][:].shape)\n",
    "test=test_image_stack.data[24][:][:]\n",
    "print(test.shape)\n",
    "plt.imshow(test)"
   ]
  },
  {
   "cell_type": "code",
   "execution_count": null,
   "id": "8562d7bd-df22-4e6a-b8ab-ef20d870ef27",
   "metadata": {},
   "outputs": [],
   "source": [
    "%matplotlib inline\n",
    "print(im_1d.data.shape)\n",
    "print(im_1d.data[0].shape)\n",
    "test=im_1d.data[:][:]\n",
    "print(test[:,:,0].shape)\n",
    "plt.imshow(test[:,:,24])"
   ]
  },
  {
   "cell_type": "code",
   "execution_count": null,
   "id": "1c3a8861-ce16-496a-8329-502b7da96f5e",
   "metadata": {},
   "outputs": [],
   "source": [
    "svd = im_1d.decomposition()\n",
    "im_1d.plot_explained_variance_ratio()\n",
    "im_1d.plot_decomposition_loadings(comp_ids=4) # look at relevant sections of the image\n",
    "im_1d.plot_decomposition_factors(comp_ids=4) # look at corresponding spectra\n",
    "plt.show()"
   ]
  },
  {
   "cell_type": "code",
   "execution_count": null,
   "id": "f7bbb7c1-110c-462c-ad01-e21e601bdbb3",
   "metadata": {},
   "outputs": [],
   "source": [
    "#im_1d.decomposition(algorithm=\"sklearn_pca\")\n",
    "im_1d.decomposition(algorithm=\"NMF\", output_dimension=4)\n",
    "#im_1d.plot_explained_variance_ratio()"
   ]
  },
  {
   "cell_type": "code",
   "execution_count": null,
   "id": "6c9c19d1-d381-467b-a700-fd9ba2d68a7e",
   "metadata": {},
   "outputs": [],
   "source": [
    "%matplotlib inline\n",
    "# set the number of components to whatever looks sensible from the scree plot\n",
    "im_1d.plot_decomposition_loadings(comp_ids=4) # look at relevant sections of the image\n",
    "plt.show()\n",
    "im_1d.plot_decomposition_factors(comp_ids=4) # look at corresponding spectra\n",
    "plt.show()"
   ]
  },
  {
   "cell_type": "code",
   "execution_count": null,
   "id": "2375fa02-1b4b-4b36-b16d-9cec26977907",
   "metadata": {},
   "outputs": [],
   "source": []
  }
 ],
 "metadata": {
  "kernelspec": {
   "display_name": "Python 3 (ipykernel)",
   "language": "python",
   "name": "python3"
  },
  "language_info": {
   "codemirror_mode": {
    "name": "ipython",
    "version": 3
   },
   "file_extension": ".py",
   "mimetype": "text/x-python",
   "name": "python",
   "nbconvert_exporter": "python",
   "pygments_lexer": "ipython3",
   "version": "3.8.12"
  }
 },
 "nbformat": 4,
 "nbformat_minor": 5
}
