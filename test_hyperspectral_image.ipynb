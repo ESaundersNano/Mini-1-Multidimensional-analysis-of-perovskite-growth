{
 "cells": [
  {
   "cell_type": "markdown",
   "id": "dc0267a0-d03e-406d-854b-5323bdb285af",
   "metadata": {},
   "source": [
    "# Hyperspec"
   ]
  },
  {
   "cell_type": "code",
   "execution_count": 1,
   "id": "6b4aadae-6b09-4651-840d-9dd2aa28f56a",
   "metadata": {},
   "outputs": [
    {
     "name": "stderr",
     "output_type": "stream",
     "text": [
      "WARNING:hyperspy_gui_traitsui:The module://matplotlib_inline.backend_inline matplotlib backend is not compatible with the traitsui GUI elements. For more information, read http://hyperspy.readthedocs.io/en/stable/user_guide/getting_started.html#possible-warnings-when-importing-hyperspy.\n",
      "WARNING:hyperspy_gui_traitsui:The traitsui GUI elements are not available.\n"
     ]
    }
   ],
   "source": [
    "import hyperspy.api as hs                 # hyperspectral data processing and some useful image viewing\n",
    "import h5py                               # to handle .h5 files\n",
    "from matplotlib import pyplot as plt      # Plotting\n",
    "import numpy as np                        # Maths\n",
    "import cv2                                # Image analysis\n",
    "from os import walk                       # To get filepaths automatically\n",
    "from natsort import natsorted             # To easily resort file order\n",
    "from datetime import datetime             # For easily parsing timestamps\n",
    "import warnings\n",
    "warnings.filterwarnings(\"ignore\")         # Attempt to remove some unnecessary pyplot warnings\n",
    "from scipy.optimize import curve_fit\n",
    "import pandas as pd\n",
    "from pathlib import Path\n",
    "import optical_image_functions as oif"
   ]
  },
  {
   "cell_type": "markdown",
   "id": "ba6c9d6b-cc27-40e7-942a-ccf150c423bc",
   "metadata": {},
   "source": [
    "Set folder location of data."
   ]
  },
  {
   "cell_type": "code",
   "execution_count": 14,
   "id": "652cf416-5ec9-439c-8d35-6dbdd7ffe4d9",
   "metadata": {},
   "outputs": [],
   "source": [
    "#folder=r'C:\\Users\\es758\\University of Cambridge\\Alice Dearle - mini1 hyper-perov\\example 2 hyperspectral\\090321\\\\'\n",
    "folder=r'C:\\Users\\Sauron\\Documents\\grl31\\NanoDTC Mini - Edward\\example 2 hyperspectral\\090321\\\\'\n",
    "fpaths = oif.get_filepaths(folder)"
   ]
  },
  {
   "cell_type": "markdown",
   "id": "de60b18b-7fce-4087-af04-6f7122162441",
   "metadata": {},
   "source": [
    "The hyperspectral microscope in MRC has software which outputs 2 files per time step, one being a rectified image stack which is what is wanted. The code below extracts the file paths for these rectified images alone."
   ]
  },
  {
   "cell_type": "code",
   "execution_count": 15,
   "id": "df30b2ad-d39a-4f3d-ad9e-9ceab722de35",
   "metadata": {},
   "outputs": [],
   "source": [
    "rectified_fpaths = []\n",
    "for fpath in fpaths:\n",
    "    if fpath[-9:] == \"(1)(1).h5\":\n",
    "        rectified_fpaths.append(fpath)"
   ]
  },
  {
   "cell_type": "markdown",
   "id": "03cdeba3-79c0-4429-9440-54ca980e2a1f",
   "metadata": {},
   "source": [
    "Inspect some of the properties of each image stack, and extract the pixel size."
   ]
  },
  {
   "cell_type": "code",
   "execution_count": 22,
   "id": "1ec3702e-0371-49a4-9105-d14a1de8836e",
   "metadata": {},
   "outputs": [
    {
     "name": "stdout",
     "output_type": "stream",
     "text": [
      "C:\\Users\\Sauron\\Documents\\grl31\\NanoDTC Mini - Edward\\example 2 hyperspectral\\090321\\\\Untitled(1)(1).h5\n",
      "Number of wavelengths per time step 26\n",
      "Pixel size is 0.325 µm/pixel\n"
     ]
    }
   ],
   "source": [
    "fpath=rectified_fpaths[0]\n",
    "print(fpath)\n",
    "f = h5py.File(fpath,'r')\n",
    "# Extract the image\n",
    "print(\"Number of wavelengths per time step\", len(f['Cube/Wavelength']))\n",
    "pixel_size = oif.get_pixel_size(fpath)\n",
    "print(\"Pixel size is\", pixel_size, \"µm/pixel\")"
   ]
  },
  {
   "cell_type": "markdown",
   "id": "58c7fe43-9ac7-46fc-9287-05b12872c7ca",
   "metadata": {},
   "source": [
    "For further information of what each h5py file contains."
   ]
  },
  {
   "cell_type": "code",
   "execution_count": 23,
   "id": "5828bba4-5caf-4aec-8d33-778ad710ba6d",
   "metadata": {},
   "outputs": [],
   "source": [
    "# oif.get_h5py_contents(fpath)"
   ]
  },
  {
   "cell_type": "markdown",
   "id": "25d0c24a-53eb-48ef-b968-4ea1a8901541",
   "metadata": {},
   "source": [
    "## Shape data into nice form"
   ]
  },
  {
   "cell_type": "code",
   "execution_count": null,
   "id": "9023ac1f-8350-4eca-ab64-717375918631",
   "metadata": {},
   "outputs": [],
   "source": [
    "def extract_h5py_image_stack(fpath):\n",
    "    \"\"\"\n",
    "    Extracts hyperspectral data from h5y file and forms it into a hyperspy object.\n",
    "    Data is returned as a hyperspy 2D signal (stack of images of different wavelengths).\n",
    "    Data can be easily converted to 1D signal (wavelength spectrum at each pixel) by transposing the object.\n",
    "    \"\"\"\n",
    "    f = h5py.File(fpath,'r')\n",
    "    \n",
    "    pixel_size = oif.get_pixel_size(fpath)\n",
    "    \n",
    "    wavelengths=np.array(f['Cube/Wavelength'])\n",
    "    dwavelength=wavelengths[1]-wavelengths[0]\n",
    "    print(dwavelength)\n",
    "    images = np.array(f['Cube/Images']).astype(\"float32\")\n",
    "    \n",
    "    lam_size, y_size, x_size = images.shape\n",
    "    \n",
    "    dictlam = {'size': lam_size, 'name':'lambda', 'units':'nm', 'scale':dwavelength, 'offset':wavelengths[0]}\n",
    "    dicty = {'size': y_size, 'name':'y', 'units':'µm', 'scale':pixel_size, 'offset':0} # Note y still increases as go down the image\n",
    "    dictx = {'size': x_size, 'name':'x', 'units':'µm', 'scale':pixel_size, 'offset':0}\n",
    "\n",
    "    image_stack = hs.signals.Signal2D(images, axes =[dictlam, dicty, dictx])\n",
    "    return image_stack"
   ]
  },
  {
   "cell_type": "code",
   "execution_count": null,
   "id": "5d210290-e335-4d7e-9d8a-c118a4651b26",
   "metadata": {},
   "outputs": [],
   "source": [
    "%matplotlib qt\n",
    "\n",
    "\n",
    "test_image_stack = extract_h5py_image_stack(fpath)\n",
    "# test_image_stack.plot(navigator='auto')\n",
    "# test_image_stack.axes_manager\n",
    "\n",
    "im_1d = test_image_stack.transpose()\n",
    "im_1d.plot(navigator='slider')\n",
    "plt.show()\n",
    "\n",
    "im_1d.plot()\n",
    "plt.show()\n",
    "im_1d.axes_manager"
   ]
  },
  {
   "cell_type": "code",
   "execution_count": null,
   "id": "075999eb-276a-4d89-971e-b7dc847b232d",
   "metadata": {},
   "outputs": [],
   "source": [
    "# inspecting how the data is stored before stacking."
   ]
  },
  {
   "cell_type": "code",
   "execution_count": null,
   "id": "0aa2497d-f21b-41b0-bafc-95dc0dd197ee",
   "metadata": {},
   "outputs": [],
   "source": [
    "%matplotlib inline\n",
    "print(test_image_stack.data.shape)\n",
    "print(test_image_stack.data[7][:][:].shape)\n",
    "test=test_image_stack.data[24][:][:]\n",
    "print(test.shape)\n",
    "plt.imshow(test)"
   ]
  },
  {
   "cell_type": "code",
   "execution_count": null,
   "id": "8562d7bd-df22-4e6a-b8ab-ef20d870ef27",
   "metadata": {},
   "outputs": [],
   "source": [
    "%matplotlib inline\n",
    "print(im_1d.data.shape)\n",
    "print(im_1d.data[0].shape)\n",
    "test=im_1d.data[:][:]\n",
    "print(test[:,:,0].shape)\n",
    "plt.imshow(test[:,:,24])"
   ]
  },
  {
   "cell_type": "code",
   "execution_count": null,
   "id": "1c3a8861-ce16-496a-8329-502b7da96f5e",
   "metadata": {},
   "outputs": [],
   "source": [
    "svd = im_1d.decomposition()\n",
    "im_1d.plot_explained_variance_ratio()\n",
    "im_1d.plot_decomposition_loadings(comp_ids=4) # look at relevant sections of the image\n",
    "im_1d.plot_decomposition_factors(comp_ids=4) # look at corresponding spectra\n",
    "plt.show()"
   ]
  },
  {
   "cell_type": "code",
   "execution_count": null,
   "id": "f7bbb7c1-110c-462c-ad01-e21e601bdbb3",
   "metadata": {},
   "outputs": [],
   "source": [
    "#im_1d.decomposition(algorithm=\"sklearn_pca\")\n",
    "im_1d.decomposition(algorithm=\"NMF\", output_dimension=4)\n",
    "#im_1d.plot_explained_variance_ratio()"
   ]
  },
  {
   "cell_type": "code",
   "execution_count": null,
   "id": "6c9c19d1-d381-467b-a700-fd9ba2d68a7e",
   "metadata": {},
   "outputs": [],
   "source": [
    "%matplotlib inline\n",
    "# set the number of components to whatever looks sensible from the scree plot\n",
    "im_1d.plot_decomposition_loadings(comp_ids=4) # look at relevant sections of the image\n",
    "plt.show()\n",
    "im_1d.plot_decomposition_factors(comp_ids=4) # look at corresponding spectra\n",
    "plt.show()"
   ]
  },
  {
   "cell_type": "code",
   "execution_count": null,
   "id": "2375fa02-1b4b-4b36-b16d-9cec26977907",
   "metadata": {},
   "outputs": [],
   "source": [
    "# time points pick don't have to be that special, just different.\n",
    "# same goes for space vs time plot."
   ]
  },
  {
   "cell_type": "code",
   "execution_count": 5,
   "id": "50e620bb-73e0-49b6-aaed-18aedcf9c141",
   "metadata": {},
   "outputs": [],
   "source": [
    "x=np.array([1,9,3])\n",
    "np.save(\"dumb_array\", x)"
   ]
  },
  {
   "cell_type": "code",
   "execution_count": 6,
   "id": "d7d88b7f-6b68-4c9e-97ae-03bc5684e368",
   "metadata": {},
   "outputs": [
    {
     "data": {
      "text/plain": [
       "array([1, 9, 3])"
      ]
     },
     "execution_count": 6,
     "metadata": {},
     "output_type": "execute_result"
    }
   ],
   "source": [
    "y=np.load(\"dumb_array.npy\")\n",
    "y"
   ]
  },
  {
   "cell_type": "code",
   "execution_count": 7,
   "id": "516773b3-a9c5-479d-a24c-3bb34f753481",
   "metadata": {},
   "outputs": [
    {
     "name": "stdout",
     "output_type": "stream",
     "text": [
      "False\n",
      "[[ True  True  True  True  True]]\n"
     ]
    }
   ],
   "source": [
    "import numpy as np\n",
    "from pathlib import Path\n",
    "\n",
    "path = Path('~/data/tmp/').expanduser()\n",
    "path.mkdir(parents=True, exist_ok=True)\n",
    "\n",
    "lb,ub = -1,1\n",
    "num_samples = 5\n",
    "x = np.random.uniform(low=lb,high=ub,size=(1,num_samples))\n",
    "y = x**2 + x + 2\n",
    "\n",
    "np.save(path/'x', x)\n",
    "np.save(path/'y', y)\n",
    "\n",
    "x_loaded = np.load(path/'x.npy')\n",
    "y_load = np.load(path/'y.npy')\n",
    "\n",
    "print(x is x_loaded) # False\n",
    "print(x == x_loaded) # [[ True  True  True  True  True]]"
   ]
  },
  {
   "cell_type": "code",
   "execution_count": 8,
   "id": "d98700c5-348f-48e4-ad6e-4f971461ca08",
   "metadata": {},
   "outputs": [
    {
     "data": {
      "text/plain": [
       "WindowsPath('C:/Users/Edward/data/tmp')"
      ]
     },
     "execution_count": 8,
     "metadata": {},
     "output_type": "execute_result"
    }
   ],
   "source": [
    "path"
   ]
  },
  {
   "cell_type": "code",
   "execution_count": null,
   "id": "e6bd6e7a-de8f-48ea-a782-f52918d5d20b",
   "metadata": {},
   "outputs": [],
   "source": []
  }
 ],
 "metadata": {
  "kernelspec": {
   "display_name": "Python 3 (ipykernel)",
   "language": "python",
   "name": "python3"
  },
  "language_info": {
   "codemirror_mode": {
    "name": "ipython",
    "version": 3
   },
   "file_extension": ".py",
   "mimetype": "text/x-python",
   "name": "python",
   "nbconvert_exporter": "python",
   "pygments_lexer": "ipython3",
   "version": "3.8.12"
  }
 },
 "nbformat": 4,
 "nbformat_minor": 5
}
